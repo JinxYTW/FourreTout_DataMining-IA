{
 "cells": [
  {
   "cell_type": "markdown",
   "id": "94a2afb6",
   "metadata": {},
   "source": [
    "# SVM avec noyau RBF sur Iris"
   ]
  },
  {
   "cell_type": "markdown",
   "id": "ba473d33-e455-4b63-8706-7a4ff43e9d34",
   "metadata": {},
   "source": [
    "Objectif : Ce notebook utilise un SVM avec un noyau RBF (Radial Basis Function) pour classer les fleurs de l'ensemble de données Iris.\n",
    "\n",
    "Données : Encore une fois, l'ensemble de données Iris est utilisé.\n",
    "\n",
    "Modèle : Un SVM avec un noyau RBF est utilisé, avec un paramètre de régularisation C de 1.5 et un gamma automatique."
   ]
  },
  {
   "cell_type": "code",
   "execution_count": 1,
   "id": "bf5385a8",
   "metadata": {},
   "outputs": [
    {
     "name": "stdout",
     "output_type": "stream",
     "text": [
      "Aperçu des données Iris: [[5.1 3.5 1.4 0.2]\n",
      " [4.9 3.  1.4 0.2]\n",
      " [4.7 3.2 1.3 0.2]\n",
      " [4.6 3.1 1.5 0.2]\n",
      " [5.  3.6 1.4 0.2]]\n",
      "Classes uniques: [0 1 2]\n",
      "\n",
      "Rapport de classification - SVM RBF:\n",
      "              precision    recall  f1-score   support\n",
      "\n",
      "           0       1.00      1.00      1.00        10\n",
      "           1       1.00      0.92      0.96        13\n",
      "           2       0.88      1.00      0.93         7\n",
      "\n",
      "    accuracy                           0.97        30\n",
      "   macro avg       0.96      0.97      0.96        30\n",
      "weighted avg       0.97      0.97      0.97        30\n",
      "\n"
     ]
    },
    {
     "data": {
      "image/png": "[encoded data removed]",
      "text/plain": [
       "<Figure size 600x500 with 2 Axes>"
      ]
     },
     "metadata": {},
     "output_type": "display_data"
    }
   ],
   "source": [
    "import numpy as np\n",
    "import matplotlib.pyplot as plt\n",
    "import seaborn as sns\n",
    "from sklearn import datasets\n",
    "from sklearn.svm import SVC\n",
    "from sklearn.model_selection import train_test_split\n",
    "from sklearn.metrics import confusion_matrix, classification_report\n",
    "\n",
    "# Chargement des données Iris\n",
    "iris = datasets.load_iris()\n",
    "X, y = iris.data, iris.target\n",
    "\n",
    "# Vérification des premières données\n",
    "print(\"Aperçu des données Iris:\", X[:5])\n",
    "print(\"Classes uniques:\", np.unique(y))\n",
    "\n",
    "# Séparation en train/test avec un random_state unique\n",
    "X_train, X_test, y_train, y_test = train_test_split(X, y, test_size=0.2, random_state=10)\n",
    "\n",
    "# Modèle SVM avec noyau RBF et hyperparamètres ajustés\n",
    "svm_rbf = SVC(kernel='rbf', C=1.5, gamma='auto')\n",
    "svm_rbf.fit(X_train, y_train)\n",
    "\n",
    "# Prédictions\n",
    "y_pred = svm_rbf.predict(X_test)\n",
    "\n",
    "# Évaluation\n",
    "print(\"\\nRapport de classification - SVM RBF:\")\n",
    "print(classification_report(y_test, y_pred))\n",
    "\n",
    "# Matrice de confusion\n",
    "plt.figure(figsize=(6,5))\n",
    "sns.heatmap(confusion_matrix(y_test, y_pred), annot=True, fmt='d', cmap='Blues')\n",
    "plt.xlabel('Prédit')\n",
    "plt.ylabel('Réel')\n",
    "plt.title('Matrice de Confusion - SVM RBF')\n",
    "plt.show()"
   ]
  },
  {
   "cell_type": "markdown",
   "id": "f4b21694-f7f6-4966-b5db-374fd6f3b1be",
   "metadata": {},
   "source": [
    "Analyse:\n",
    "\n",
    "Rapport de classification : Le rapport de classification fournira des métriques pour chaque classe. Le noyau RBF permet de capturer des relations non linéaires dans les données, donc on s'attend à ce que le modèle performe bien, surtout sur un ensemble de données aussi bien structuré que Iris.\n",
    "\n",
    "Matrice de confusion : La matrice de confusion montrera combien d'échantillons ont été correctement classés. On s'attend à ce que la plupart des échantillons soient correctement classés, avec quelques erreurs possibles entre les classes Versicolor et Virginica."
   ]
  }
 ],
 "metadata": {
  "kernelspec": {
   "display_name": "Python 3 (ipykernel)",
   "language": "python",
   "name": "python3"
  },
  "language_info": {
   "codemirror_mode": {
    "name": "ipython",
    "version": 3
   },
   "file_extension": ".py",
   "mimetype": "text/x-python",
   "name": "python",
   "nbconvert_exporter": "python",
   "pygments_lexer": "ipython3",
   "version": "3.12.6"
  }
 },
 "nbformat": 4,
 "nbformat_minor": 5
}
