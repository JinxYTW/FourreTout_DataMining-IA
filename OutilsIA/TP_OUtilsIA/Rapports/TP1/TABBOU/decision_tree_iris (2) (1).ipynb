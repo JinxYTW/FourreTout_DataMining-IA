{
 "cells": [
  {
   "cell_type": "markdown",
   "id": "4d1a0e3f",
   "metadata": {},
   "source": [
    "# Arbre de Décision sur Iris"
   ]
  },
  {
   "cell_type": "markdown",
   "id": "71c2a3c7-a8f5-42f9-b33a-21d605ef82de",
   "metadata": {},
   "source": [
    "Objectif : Ce notebook utilise un arbre de décision pour classer les fleurs de l'ensemble de données Iris.\n",
    "\n",
    "Données : L'ensemble de données Iris contient 150 échantillons de fleurs, avec 4 caractéristiques (longueur et largeur des sépales et pétales) et 3 classes (Setosa, Versicolor, Virginica).\n",
    "\n",
    "Modèle : Un arbre de décision est utilisé avec une profondeur maximale de 3 et le critère d'entropie pour la division des nœuds.\n"
   ]
  },
  {
   "cell_type": "code",
   "execution_count": 1,
   "id": "7da4d6da",
   "metadata": {},
   "outputs": [
    {
     "name": "stdout",
     "output_type": "stream",
     "text": [
      "Aperçu des données Iris: [[5.1 3.5 1.4 0.2]\n",
      " [4.9 3.  1.4 0.2]\n",
      " [4.7 3.2 1.3 0.2]\n",
      " [4.6 3.1 1.5 0.2]\n",
      " [5.  3.6 1.4 0.2]]\n",
      "Classes uniques: [0 1 2]\n",
      "\n",
      "Rapport de classification - Arbre de Décision:\n",
      "              precision    recall  f1-score   support\n",
      "\n",
      "           0       1.00      1.00      1.00        12\n",
      "           1       1.00      0.89      0.94         9\n",
      "           2       0.90      1.00      0.95         9\n",
      "\n",
      "    accuracy                           0.97        30\n",
      "   macro avg       0.97      0.96      0.96        30\n",
      "weighted avg       0.97      0.97      0.97        30\n",
      "\n"
     ]
    },
    {
     "data": {
      "image/png": "[encoded data removed]",
      "text/plain": [
       "<Figure size 600x500 with 2 Axes>"
      ]
     },
     "metadata": {},
     "output_type": "display_data"
    }
   ],
   "source": [
    "import numpy as np\n",
    "import matplotlib.pyplot as plt\n",
    "import seaborn as sns\n",
    "from sklearn import datasets\n",
    "from sklearn.tree import DecisionTreeClassifier\n",
    "from sklearn.model_selection import train_test_split\n",
    "from sklearn.metrics import confusion_matrix, classification_report\n",
    "\n",
    "# Chargement des données Iris\n",
    "iris = datasets.load_iris()\n",
    "X, y = iris.data, iris.target\n",
    "\n",
    "# Vérification des premières données\n",
    "print(\"Aperçu des données Iris:\", X[:5])\n",
    "print(\"Classes uniques:\", np.unique(y))\n",
    "\n",
    "# Séparation en train/test avec un random_state unique différent\n",
    "X_train, X_test, y_train, y_test = train_test_split(X, y, test_size=0.2, random_state=30)\n",
    "\n",
    "# Modèle d'Arbre de Décision avec profondeur différente\n",
    "decision_tree = DecisionTreeClassifier(max_depth=3, criterion='entropy')\n",
    "decision_tree.fit(X_train, y_train)\n",
    "\n",
    "# Prédictions\n",
    "y_pred = decision_tree.predict(X_test)\n",
    "\n",
    "# Évaluation\n",
    "print(\"\\nRapport de classification - Arbre de Décision:\")\n",
    "print(classification_report(y_test, y_pred))\n",
    "\n",
    "# Matrice de confusion\n",
    "plt.figure(figsize=(6,5))\n",
    "sns.heatmap(confusion_matrix(y_test, y_pred), annot=True, fmt='d', cmap='Oranges')\n",
    "plt.xlabel('Prédit')\n",
    "plt.ylabel('Réel')\n",
    "plt.title('Matrice de Confusion - Arbre de Décision')\n",
    "plt.show()"
   ]
  },
  {
   "cell_type": "markdown",
   "id": "19442fc9-7b53-4245-80e6-d93a3a62caa7",
   "metadata": {},
   "source": [
    "Analyse :\n",
    "\n",
    "Rapport de classification : Le rapport de classification fournira des métriques telles que la précision, le rappel, et le F1-score pour chaque classe. Étant donné que l'arbre de décision est un modèle relativement simple, on s'attend à de bonnes performances sur l'ensemble de données Iris, qui est bien structuré et linéairement séparable.\n",
    "\n",
    "Matrice de confusion : La matrice de confusion montrera combien d'échantillons ont été correctement classés et combien ont été mal classés. On s'attend à ce que la plupart des échantillons soient correctement classés, avec quelques erreurs possibles entre les classes Versicolor et Virginica, qui sont plus similaires."
   ]
  }
 ],
 "metadata": {
  "kernelspec": {
   "display_name": "Python 3 (ipykernel)",
   "language": "python",
   "name": "python3"
  },
  "language_info": {
   "codemirror_mode": {
    "name": "ipython",
    "version": 3
   },
   "file_extension": ".py",
   "mimetype": "text/x-python",
   "name": "python",
   "nbconvert_exporter": "python",
   "pygments_lexer": "ipython3",
   "version": "3.12.6"
  }
 },
 "nbformat": 4,
 "nbformat_minor": 5
}
